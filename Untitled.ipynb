{
 "cells": [
  {
   "cell_type": "code",
   "execution_count": null,
   "id": "19e07905-17d5-485d-96f4-7918504e48e2",
   "metadata": {},
   "outputs": [],
   "source": [
    "import cv2\n",
    "import face_recognition\n",
    "import numpy as np\n",
    "import os\n",
    "\n",
    "# Load all known faces from a folder\n",
    "known_faces = []\n",
    "known_names = []\n",
    "\n",
    "faces_folder = \"Friends_Folder\"  # Folder containing images of friends\n",
    "\n",
    "for filename in os.listdir(faces_folder):\n",
    "    if filename.endswith(\".jpg\") or filename.endswith(\".png\"):\n",
    "        image_path = os.path.join(faces_folder, filename)\n",
    "        image = face_recognition.load_image_file(image_path)\n",
    "        image = cv2.resize(image, (0, 0), fx=0.25, fy=0.25)  # Ensure consistent resizing\n",
    "        encodings = face_recognition.face_encodings(image)\n",
    "        \n",
    "        if encodings:\n",
    "            known_faces.append(encodings[0])\n",
    "            known_names.append(os.path.splitext(filename)[0])  # Use filename as name\n",
    "        else:\n",
    "            print(f\"Warning: No face found in {filename}. Check the image!\")\n",
    "\n",
    "cap = cv2.VideoCapture(0)\n",
    "\n",
    "while True:\n",
    "    ret, frame = cap.read()\n",
    "    if not ret:\n",
    "        break\n",
    "    \n",
    "    small_frame = cv2.resize(frame, (0, 0), fx=0.25, fy=0.25)\n",
    "    rgb_frame = cv2.cvtColor(small_frame, cv2.COLOR_BGR2RGB)\n",
    "    face_locations = face_recognition.face_locations(rgb_frame)\n",
    "    face_encodings = face_recognition.face_encodings(rgb_frame, face_locations)\n",
    "    \n",
    "    for face_encoding, face_location in zip(face_encodings, face_locations):\n",
    "        matches = face_recognition.compare_faces(known_faces, face_encoding)\n",
    "        name = \"Unknown\"\n",
    "        \n",
    "        face_distances = face_recognition.face_distance(known_faces, face_encoding)\n",
    "        best_match_index = np.argmin(face_distances) if len(face_distances) > 0 else None\n",
    "        \n",
    "        if best_match_index is not None and face_distances[best_match_index] < 0.5:\n",
    "            name = known_names[best_match_index]\n",
    "        \n",
    "        top, right, bottom, left = [v * 4 for v in face_location]\n",
    "        cv2.rectangle(frame, (left, top), (right, bottom), (0, 255, 0), 2)\n",
    "        cv2.putText(frame, name, (left, top - 10), cv2.FONT_HERSHEY_SIMPLEX, 0.75, (0, 255, 0), 2)\n",
    "    \n",
    "    cv2.imshow(\"Face Recognition\", frame)\n",
    "    \n",
    "    if cv2.waitKey(1) & 0xFF == ord('q'):\n",
    "        break\n",
    "\n",
    "cap.release()\n",
    "cv2.destroyAllWindows()\n"
   ]
  },
  {
   "cell_type": "code",
   "execution_count": null,
   "id": "97756dcb-9a61-4078-b50b-4e1f7f04ce21",
   "metadata": {},
   "outputs": [],
   "source": [
    "cap.release()\n",
    "cv2.destroyAllWindows()\n"
   ]
  },
  {
   "cell_type": "code",
   "execution_count": null,
   "id": "397b9985-82df-4561-b308-544f110aff10",
   "metadata": {},
   "outputs": [],
   "source": []
  }
 ],
 "metadata": {
  "kernelspec": {
   "display_name": "Python 3 (ipykernel)",
   "language": "python",
   "name": "python3"
  },
  "language_info": {
   "codemirror_mode": {
    "name": "ipython",
    "version": 3
   },
   "file_extension": ".py",
   "mimetype": "text/x-python",
   "name": "python",
   "nbconvert_exporter": "python",
   "pygments_lexer": "ipython3",
   "version": "3.12.8"
  }
 },
 "nbformat": 4,
 "nbformat_minor": 5
}
